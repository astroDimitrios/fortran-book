{
 "cells": [
  {
   "cell_type": "markdown",
   "id": "f5481158-df68-4954-9235-89894b9add3d",
   "metadata": {},
   "source": [
    "<script type=\"text/x-thebe-config\">\n",
    "{\n",
    "    requestKernel: true,\n",
    "    binderOptions: {\n",
    "        repo: \"astroDimitrios/fortran-book\",\n",
    "        ref: \"main\",\n",
    "        repoProvider: \"github\",\n",
    "        binderUrl: \"https://mybinder.org\",\n",
    "    },\n",
    "    kernelOptions: {\n",
    "        name: \"fortran\",\n",
    "        kernelName: \"fortran\",\n",
    "        path: \".\",\n",
    "    },\n",
    "}\n",
    "</script>\n",
    "<script>kernelName = 'fortran'</script>"
   ]
  },
  {
   "cell_type": "markdown",
   "id": "09b95d2b-7a6f-46fe-82cc-dd7919018379",
   "metadata": {},
   "source": [
    "# Introduction to Fortran\n",
    "\n",
    "ADD MORE HELPFULL LINKS TO THIS PAGE  \n",
    "ADD MASTER TOC OR WEB TREE THING  \n",
    "https://www.sphinx-doc.org/en/master/usage/restructuredtext/directives.html#directive-literalinclude  \n",
    "BLOCK construct not inlcuded in Basic Program section yet, nor the DATA statement\n",
    "MASTER EX LIST? - like sphinx-lesson?\n",
    "\n",
    "This book is designed to introduce you to the basics of modern [Fortran](https://fortran-lang.org/en/) and good software engineering practices.\n",
    "It is heavily inspired by the work of Katherine Holcomb {cite}`holcomb`.\n",
    "\n",
    "Fortran was created in 1957 by a team at IBM and excels with numerically intensive science code.\n",
    "Far from the punchcards, and fixed-form formatting of Fortrans early days, modern Fortran is fast, \n",
    "and since the Fortran 2018 update natively parallel. It is often used to write numerical code for \n",
    "High Performance Computing (HPC). \n",
    "\n",
    "## Getting Started\n",
    "\n",
    "This book includes practice exercises and solutions for you to work on in each chapter. You can download a ***zip*** file containing instructions and skeleton files for the exercises [here](). The first few lessons can be explored using the built in interactives and on your local machine. The next sections explain how to use the interactivity and work locally.\n",
    "\n",
    "## Interactives\n",
    "\n",
    "The first few lessons in this book contain interactive elements which don't require you to have a fortran compiler installed locally, although the first exercises will require a local fortran compiler. Through the power of the open-source projects Jupyter and LFortran you can compile and run Fortran code in the browser.\n",
    "\n",
    "Try it out:\n",
    "\n",
    "<div class=\"admonition interactive\">\n",
    "    <p class=\"title\">Interactive</p>\n",
    "    <div>\n",
    "        <p>\n",
    "            This card marks an interactive section.\n",
    "            To activate interactivity for the page:\n",
    "        </p>\n",
    "        <ul>\n",
    "            <li>click on the top right <i class=\"fas fa-rocket\"></i> icon</li>\n",
    "            <li>then click on <strong>Live Code</strong></li>\n",
    "        </ul>\n",
    "        <p>\n",
    "            You should now see a <strong style=\"margin: 0px\">run</strong> button. Click on it!\n",
    "        </p>\n",
    "    </div>\n",
    "</div>"
   ]
  },
  {
   "cell_type": "code",
   "execution_count": null,
   "id": "972c6620-a9d5-406b-a0a9-674b87e72dd8",
   "metadata": {},
   "outputs": [],
   "source": [
    "print *, 'I <3 Fortran'"
   ]
  },
  {
   "cell_type": "markdown",
   "id": "a3a9a47b-2532-425a-8831-574c8b8ef936",
   "metadata": {},
   "source": [
    "\n",
    "\n",
    "<!-- Built with [![Jupyter Book Logo](https://img.shields.io/badge/jupyter-book-orange?style=for-the-badge&logo=data:image/png%3Bbase64,iVBORw0KGgoAAAANSUhEUgAAABwAAAAZCAMAAAAVHr4VAAAAXVBMVEX////v7+/zdybv7+/zdybv7+/zdybv7+/zdybv7+/zdybv7+/zdybv7+/zdybv7+/zdybv7+/zdybv7+/v7+/zdybv7+/zdybv7+/v7+/zdybv7+/zdybv7+/zdyaSmqV2AAAAHXRSTlMAEBAgIDAwQEBQUGBgcHCAgJCQoLCwwMDQ4ODw8MDkUIUAAADJSURBVHjaddAFkgNBCAXQP+7uAvc/5tLFVseYF8crUB0560r/5gwvjYYm8gq8QJoyIJNwlnUH0WEnART6YSezV6c5tjOTaoKdfGXtnclFlEBEXVd8JzG4pa/LDql9Jff/ZCC/h2zSqF5bzf4vqkgNwEzeClUd8uMadLE6OnhBFsES5niQh2BOYUqZsfGdmrmbN+TMvPROHUOkde8sEs6Bnr0tDDf2Roj6fmVfubuGyttejCeLc+xFm+NLuLnJeFAyl3gS932MF/wBoukfUcwI05kAAAAASUVORK5CYII=)](https://jupyterbook.org/en/stable/index.html)   -->\n"
   ]
  },
  {
   "cell_type": "markdown",
   "id": "f4115f98-2bd9-4279-85a0-c88a2a73a765",
   "metadata": {},
   "source": [
    "If you receive an error message trying to run a cell click on <strong style=\"margin: 0px\">restart & run all</strong> to restart the interactive Fortran kernel. Later lessons in this book aren't interactive so you wont see the rocket icon. You will need to ensure you have a Fortran compiler installed, see Working Locally below.\n",
    "\n",
    "## Working Locally\n",
    "\n",
    "The exercises in this book were tested on Linux and compiled with both the gfortran5 and ifort compilers. We recommend you create a conda environment with:\n",
    "\n",
    "<ul>\n",
    "    <li>fortls, the Fortran language server</li>\n",
    "    <li>gfortran, the GNU Fortran compiler</li>\n",
    "</ul>\n",
    "\n",
    "You can also use our [***fortran.yml***]() file to create the same environment we used to test this book. Our test environment also includes python packages for visualising some exercise solutions and doxygen, a document generation package. If you'd like to use Intels ifort compiler you can download ifort from their [website](https://www.intel.com/content/www/us/en/developer/tools/oneapi/fortran-compiler.html#gs.l7v8o2).\n",
    "\n",
    "We hope you enjoy learning Fortran using these resources. If you spot any errors or have ideas to improve the book please contact dt @ dt.com. "
   ]
  },
  {
   "cell_type": "code",
   "execution_count": null,
   "id": "71c12387-423b-4007-881f-e40e5407c106",
   "metadata": {},
   "outputs": [],
   "source": []
  }
 ],
 "metadata": {
  "kernelspec": {
   "display_name": "Fortran",
   "language": "fortran",
   "name": "fortran"
  },
  "language_info": {
   "file_extension": ".f90",
   "mimetype": "text/x-fortran",
   "name": "fortran",
   "version": "2018"
  }
 },
 "nbformat": 4,
 "nbformat_minor": 5
}
