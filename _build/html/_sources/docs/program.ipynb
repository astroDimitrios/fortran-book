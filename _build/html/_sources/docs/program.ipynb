{
 "cells": [
  {
   "cell_type": "markdown",
   "metadata": {},
   "source": [
    "<script type=\"text/x-thebe-config\">\n",
    "{\n",
    "    requestKernel: true,\n",
    "    binderOptions: {\n",
    "        repo: \"astroDimitrios/fortran-book\",\n",
    "        ref: \"main\",\n",
    "        repoProvider: \"github\",\n",
    "        binderUrl: \"https://mybinder.org\",\n",
    "    },\n",
    "    kernelOptions: {\n",
    "        name: \"fortran\",\n",
    "        kernelName: \"fortran\",\n",
    "        path: \".\",\n",
    "    },\n",
    "}\n",
    "</script>\n",
    "<script>kernelName = 'fortran'</script>"
   ]
  },
  {
   "cell_type": "markdown",
   "metadata": {},
   "source": [
    "# Program\n",
    "\n",
    "Lfortran - program, end program \n",
    "\n",
    "```fortran\n",
    "integer :: x = 10\n",
    "```"
   ]
  },
  {
   "cell_type": "code",
   "execution_count": 1,
   "metadata": {},
   "outputs": [
    {
     "name": "stdout",
     "output_type": "stream",
     "text": [
      "10\n"
     ]
    }
   ],
   "source": [
    "integer :: x = 10\n",
    "print *, x"
   ]
  },
  {
   "cell_type": "markdown",
   "metadata": {},
   "source": [
    "Test x = {glue:}`glued_text`"
   ]
  }
 ],
 "metadata": {
  "kernelspec": {
   "display_name": "Fortran",
   "language": "fortran",
   "name": "fortran"
  },
  "language_info": {
   "file_extension": ".f90",
   "mimetype": "text/x-fortran",
   "name": "fortran",
   "version": "2018"
  }
 },
 "nbformat": 4,
 "nbformat_minor": 4
}
