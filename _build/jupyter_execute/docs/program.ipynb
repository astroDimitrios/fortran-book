{
 "cells": [
  {
   "cell_type": "markdown",
   "metadata": {},
   "source": [
    "<script type=\"text/x-thebe-config\">\n",
    "{\n",
    "    requestKernel: true,\n",
    "    binderOptions: {\n",
    "        repo: \"astroDimitrios/fortran-book\",\n",
    "        ref: \"main\",\n",
    "        repoProvider: \"github\",\n",
    "        binderUrl: \"https://mybinder.org\",\n",
    "    },\n",
    "    kernelOptions: {\n",
    "        name: \"fortran\",\n",
    "        kernelName: \"fortran\",\n",
    "        path: \".\",\n",
    "    },\n",
    "}\n",
    "</script>\n",
    "<script>kernelName = 'fortran'</script>"
   ]
  },
  {
   "cell_type": "markdown",
   "metadata": {},
   "source": [
    "# Program\n",
    "\n",
    "Lfortran"
   ]
  },
  {
   "cell_type": "code",
   "execution_count": 1,
   "metadata": {},
   "outputs": [],
   "source": [
    "program test\n",
    "    integer :: x = 10\n",
    "    write (*,*) x \n",
    "    print *, x\n",
    "end program test"
   ]
  }
 ],
 "metadata": {
  "kernelspec": {
   "display_name": "Fortran",
   "language": "fortran",
   "name": "fortran"
  },
  "language_info": {
   "file_extension": ".f90",
   "mimetype": "text/x-fortran",
   "name": "fortran",
   "version": "2018"
  }
 },
 "nbformat": 4,
 "nbformat_minor": 4
}