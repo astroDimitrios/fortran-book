{
 "cells": [
  {
   "cell_type": "markdown",
   "id": "06f38d54",
   "metadata": {},
   "source": [
    "# Introduction to Fortran\n",
    "\n",
    "Inspired by {cite}`holcomb`.\n",
    "\n",
    "```{tableofcontents}\n",
    "```"
   ]
  },
  {
   "cell_type": "code",
   "execution_count": null,
   "id": "34c9ce9f",
   "metadata": {},
   "outputs": [],
   "source": [
    "integer :: x = 10\n",
    "glue(\"glued_text\", x)"
   ]
  },
  {
   "cell_type": "markdown",
   "id": "fe86f372",
   "metadata": {},
   "source": [
    "Test x = {glue:}`glued_text`"
   ]
  }
 ],
 "metadata": {
  "jupytext": {
   "formats": "md:myst",
   "text_representation": {
    "extension": ".md",
    "format_name": "myst"
   }
  },
  "kernelspec": {
   "display_name": "Fortran",
   "language": "fortran",
   "name": "fortran"
  },
  "source_map": [
   11,
   20,
   23
  ]
 },
 "nbformat": 4,
 "nbformat_minor": 5
}